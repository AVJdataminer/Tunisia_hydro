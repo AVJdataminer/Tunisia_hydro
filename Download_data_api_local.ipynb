{
 "cells": [
  {
   "cell_type": "markdown",
   "metadata": {},
   "source": [
    "### Load Packages & find current working dir"
   ]
  },
  {
   "cell_type": "code",
   "execution_count": 2,
   "metadata": {},
   "outputs": [
    {
     "name": "stdout",
     "output_type": "stream",
     "text": [
      "/Users/aidenjohnson/Library/Mobile Documents/com~apple~CloudDocs/Folio/Tunisia\n"
     ]
    },
    {
     "data": {
      "text/plain": [
       "['pluviometrie.xlsx',\n",
       " 'stations_pluviometrie.xls',\n",
       " 'Tunisia_EDA.py.ipynb',\n",
       " 'Dams-to-Landsat.ipynb',\n",
       " '.pluviometrie.csv.icloud',\n",
       " '.DS_Store',\n",
       " 'metadonnees_barrages.csv',\n",
       " 'extractor.py',\n",
       " 'img',\n",
       " 'Dam_data_api.csv',\n",
       " 'EDA.py',\n",
       " '.ipynb_checkpoints',\n",
       " 'python_dam_api.py',\n",
       " 'data',\n",
       " 'def_formatLists.py',\n",
       " 'barrages.csv']"
      ]
     },
     "execution_count": 2,
     "metadata": {},
     "output_type": "execute_result"
    }
   ],
   "source": [
    "import os\n",
    "import pandas as pd\n",
    "import numpy as np\n",
    "import seaborn as sns\n",
    "sns.set(font_scale=1.5)\n",
    "import matplotlib.pyplot as plt\n",
    "%matplotlib inline\n",
    "print(os.getcwd())\n",
    "os.listdir()"
   ]
  },
  {
   "cell_type": "markdown",
   "metadata": {},
   "source": [
    "### Download dam data using API\n",
    "    * data will now be in a object named 'df'\n",
    "    * additionally data is saved a csv file"
   ]
  },
  {
   "cell_type": "code",
   "execution_count": 9,
   "metadata": {
    "collapsed": true
   },
   "outputs": [],
   "source": [
    "#%run python_dam_api.py #you can also download the csv manually from the website\n",
    "import urllib.request\n",
    "import pandas as pd\n",
    "import requests\n",
    "\n",
    "req = urllib.request.Request('http://www.agridata.tn/api/3/action/datastore_search?resource_id=606ba3d0-e854-41a8-bb06-a417785b03aa')\n",
    "with urllib.request.urlopen(req) as response:\n",
    "    the_page = response.read()\n",
    "#print(the_page)\n",
    "#df=pd.DataFrame(the_page)\n",
    "response = requests.get('http://www.agridata.tn/api/3/action/datastore_search?resource_id=8d70196c-a95e-4a04-9c61-8144b4b60a18&limit=100000')\n",
    "#print(response.text)\n",
    "#print('Status code: '+ str(response.status_code))\n",
    "#print('Content Type: '+ str(response.headers['content-type']))\n",
    "data=response.json()\n",
    "#print(data)\n",
    "repository = data['result']\n",
    "#print(repository[\"resource_id\"])\n",
    "d=pd.DataFrame.from_dict(repository[\"records\"])\n",
    "print(d.shape)\n",
    "\n",
    "#d.to_csv(\"Dam_data_api.csv\", index=False)"
   ]
  },
  {
   "cell_type": "code",
   "execution_count": 14,
   "metadata": {
    "collapsed": true
   },
   "outputs": [],
   "source": [
    "df=pd.read_csv('Dam_data_api.csv')"
   ]
  },
  {
   "cell_type": "code",
   "execution_count": 15,
   "metadata": {},
   "outputs": [
    {
     "data": {
      "text/html": [
       "<div>\n",
       "<style>\n",
       "    .dataframe thead tr:only-child th {\n",
       "        text-align: right;\n",
       "    }\n",
       "\n",
       "    .dataframe thead th {\n",
       "        text-align: left;\n",
       "    }\n",
       "\n",
       "    .dataframe tbody tr th {\n",
       "        vertical-align: top;\n",
       "    }\n",
       "</style>\n",
       "<table border=\"1\" class=\"dataframe\">\n",
       "  <thead>\n",
       "    <tr style=\"text-align: right;\">\n",
       "      <th></th>\n",
       "      <th>count</th>\n",
       "      <th>mean</th>\n",
       "      <th>std</th>\n",
       "      <th>min</th>\n",
       "      <th>25%</th>\n",
       "      <th>50%</th>\n",
       "      <th>75%</th>\n",
       "      <th>max</th>\n",
       "    </tr>\n",
       "  </thead>\n",
       "  <tbody>\n",
       "    <tr>\n",
       "      <th>Annee_prod</th>\n",
       "      <td>11641.0</td>\n",
       "      <td>1987.693068</td>\n",
       "      <td>18.403534</td>\n",
       "      <td>1954.000000</td>\n",
       "      <td>1971.000000</td>\n",
       "      <td>1989.000000</td>\n",
       "      <td>2002.000000</td>\n",
       "      <td>2015.0000</td>\n",
       "    </tr>\n",
       "    <tr>\n",
       "      <th>Bassin_versant</th>\n",
       "      <td>11641.0</td>\n",
       "      <td>1184.101014</td>\n",
       "      <td>2574.659933</td>\n",
       "      <td>35.500000</td>\n",
       "      <td>85.900000</td>\n",
       "      <td>177.000000</td>\n",
       "      <td>855.000000</td>\n",
       "      <td>10300.0000</td>\n",
       "    </tr>\n",
       "    <tr>\n",
       "      <th>Cap_tot_act</th>\n",
       "      <td>11641.0</td>\n",
       "      <td>68.807438</td>\n",
       "      <td>107.539245</td>\n",
       "      <td>2.000000</td>\n",
       "      <td>12.854000</td>\n",
       "      <td>33.441100</td>\n",
       "      <td>76.900000</td>\n",
       "      <td>580.3500</td>\n",
       "    </tr>\n",
       "    <tr>\n",
       "      <th>Cap_tot_init</th>\n",
       "      <td>11641.0</td>\n",
       "      <td>89.449518</td>\n",
       "      <td>148.045498</td>\n",
       "      <td>4.000000</td>\n",
       "      <td>12.100000</td>\n",
       "      <td>41.000000</td>\n",
       "      <td>88.000000</td>\n",
       "      <td>814.0000</td>\n",
       "    </tr>\n",
       "    <tr>\n",
       "      <th>Cote</th>\n",
       "      <td>11641.0</td>\n",
       "      <td>210.762855</td>\n",
       "      <td>198.668592</td>\n",
       "      <td>18.040000</td>\n",
       "      <td>82.500000</td>\n",
       "      <td>122.500000</td>\n",
       "      <td>270.000000</td>\n",
       "      <td>849.0000</td>\n",
       "    </tr>\n",
       "    <tr>\n",
       "      <th>Latitude</th>\n",
       "      <td>11641.0</td>\n",
       "      <td>36.478721</td>\n",
       "      <td>0.597102</td>\n",
       "      <td>34.746800</td>\n",
       "      <td>36.302000</td>\n",
       "      <td>36.692300</td>\n",
       "      <td>36.882400</td>\n",
       "      <td>37.1991</td>\n",
       "    </tr>\n",
       "    <tr>\n",
       "      <th>Longitude</th>\n",
       "      <td>11641.0</td>\n",
       "      <td>9.501701</td>\n",
       "      <td>0.689284</td>\n",
       "      <td>8.531730</td>\n",
       "      <td>8.936180</td>\n",
       "      <td>9.410930</td>\n",
       "      <td>9.872350</td>\n",
       "      <td>10.9218</td>\n",
       "    </tr>\n",
       "    <tr>\n",
       "      <th>_id</th>\n",
       "      <td>11641.0</td>\n",
       "      <td>5821.000000</td>\n",
       "      <td>3360.611576</td>\n",
       "      <td>1.000000</td>\n",
       "      <td>2911.000000</td>\n",
       "      <td>5821.000000</td>\n",
       "      <td>8731.000000</td>\n",
       "      <td>11641.0000</td>\n",
       "    </tr>\n",
       "    <tr>\n",
       "      <th>apports</th>\n",
       "      <td>11641.0</td>\n",
       "      <td>0.213818</td>\n",
       "      <td>1.092895</td>\n",
       "      <td>-0.029971</td>\n",
       "      <td>0.000000</td>\n",
       "      <td>0.003904</td>\n",
       "      <td>0.049032</td>\n",
       "      <td>24.2202</td>\n",
       "    </tr>\n",
       "    <tr>\n",
       "      <th>cumul_annee_prec</th>\n",
       "      <td>10800.0</td>\n",
       "      <td>16.185759</td>\n",
       "      <td>34.566227</td>\n",
       "      <td>0.000000</td>\n",
       "      <td>0.406128</td>\n",
       "      <td>2.104285</td>\n",
       "      <td>14.703725</td>\n",
       "      <td>250.8460</td>\n",
       "    </tr>\n",
       "    <tr>\n",
       "      <th>cumul_annuel_apports</th>\n",
       "      <td>11520.0</td>\n",
       "      <td>35.584014</td>\n",
       "      <td>70.375044</td>\n",
       "      <td>0.000000</td>\n",
       "      <td>3.250595</td>\n",
       "      <td>11.629500</td>\n",
       "      <td>36.532800</td>\n",
       "      <td>626.9390</td>\n",
       "    </tr>\n",
       "    <tr>\n",
       "      <th>cumul_annuel_lachers</th>\n",
       "      <td>11520.0</td>\n",
       "      <td>22.224234</td>\n",
       "      <td>46.384321</td>\n",
       "      <td>0.000000</td>\n",
       "      <td>0.584187</td>\n",
       "      <td>4.511000</td>\n",
       "      <td>18.964000</td>\n",
       "      <td>328.8690</td>\n",
       "    </tr>\n",
       "    <tr>\n",
       "      <th>cumul_mensuel_apports</th>\n",
       "      <td>11641.0</td>\n",
       "      <td>3.287661</td>\n",
       "      <td>11.011470</td>\n",
       "      <td>0.000000</td>\n",
       "      <td>0.030513</td>\n",
       "      <td>0.245469</td>\n",
       "      <td>1.898090</td>\n",
       "      <td>197.5790</td>\n",
       "    </tr>\n",
       "    <tr>\n",
       "      <th>cumul_mensuel_lachers</th>\n",
       "      <td>11641.0</td>\n",
       "      <td>2.329649</td>\n",
       "      <td>7.411845</td>\n",
       "      <td>0.000000</td>\n",
       "      <td>0.000000</td>\n",
       "      <td>0.159000</td>\n",
       "      <td>1.416000</td>\n",
       "      <td>118.3860</td>\n",
       "    </tr>\n",
       "    <tr>\n",
       "      <th>fonctionnel</th>\n",
       "      <td>11641.0</td>\n",
       "      <td>1.000000</td>\n",
       "      <td>0.000000</td>\n",
       "      <td>1.000000</td>\n",
       "      <td>1.000000</td>\n",
       "      <td>1.000000</td>\n",
       "      <td>1.000000</td>\n",
       "      <td>1.0000</td>\n",
       "    </tr>\n",
       "    <tr>\n",
       "      <th>id_barrage</th>\n",
       "      <td>11641.0</td>\n",
       "      <td>16.671506</td>\n",
       "      <td>9.336584</td>\n",
       "      <td>1.000000</td>\n",
       "      <td>9.000000</td>\n",
       "      <td>17.000000</td>\n",
       "      <td>25.000000</td>\n",
       "      <td>33.0000</td>\n",
       "    </tr>\n",
       "    <tr>\n",
       "      <th>lachers</th>\n",
       "      <td>11641.0</td>\n",
       "      <td>0.154007</td>\n",
       "      <td>0.783272</td>\n",
       "      <td>0.000000</td>\n",
       "      <td>0.000000</td>\n",
       "      <td>0.002922</td>\n",
       "      <td>0.050000</td>\n",
       "      <td>17.1530</td>\n",
       "    </tr>\n",
       "    <tr>\n",
       "      <th>moy_mois</th>\n",
       "      <td>11163.0</td>\n",
       "      <td>4.764165</td>\n",
       "      <td>10.950147</td>\n",
       "      <td>0.000000</td>\n",
       "      <td>0.304790</td>\n",
       "      <td>1.114760</td>\n",
       "      <td>3.763410</td>\n",
       "      <td>93.8696</td>\n",
       "    </tr>\n",
       "    <tr>\n",
       "      <th>moy_periode</th>\n",
       "      <td>11163.0</td>\n",
       "      <td>31.902359</td>\n",
       "      <td>62.697752</td>\n",
       "      <td>0.003333</td>\n",
       "      <td>3.016500</td>\n",
       "      <td>9.873670</td>\n",
       "      <td>29.322200</td>\n",
       "      <td>401.3350</td>\n",
       "    </tr>\n",
       "    <tr>\n",
       "      <th>stock</th>\n",
       "      <td>11641.0</td>\n",
       "      <td>39.459438</td>\n",
       "      <td>73.863096</td>\n",
       "      <td>0.006000</td>\n",
       "      <td>4.512100</td>\n",
       "      <td>17.679400</td>\n",
       "      <td>40.418800</td>\n",
       "      <td>581.4000</td>\n",
       "    </tr>\n",
       "    <tr>\n",
       "      <th>stock_annee_prec</th>\n",
       "      <td>11042.0</td>\n",
       "      <td>25.456523</td>\n",
       "      <td>43.770762</td>\n",
       "      <td>0.000000</td>\n",
       "      <td>1.791600</td>\n",
       "      <td>8.345120</td>\n",
       "      <td>30.082175</td>\n",
       "      <td>289.9590</td>\n",
       "    </tr>\n",
       "  </tbody>\n",
       "</table>\n",
       "</div>"
      ],
      "text/plain": [
       "                         count         mean          std          min  \\\n",
       "Annee_prod             11641.0  1987.693068    18.403534  1954.000000   \n",
       "Bassin_versant         11641.0  1184.101014  2574.659933    35.500000   \n",
       "Cap_tot_act            11641.0    68.807438   107.539245     2.000000   \n",
       "Cap_tot_init           11641.0    89.449518   148.045498     4.000000   \n",
       "Cote                   11641.0   210.762855   198.668592    18.040000   \n",
       "Latitude               11641.0    36.478721     0.597102    34.746800   \n",
       "Longitude              11641.0     9.501701     0.689284     8.531730   \n",
       "_id                    11641.0  5821.000000  3360.611576     1.000000   \n",
       "apports                11641.0     0.213818     1.092895    -0.029971   \n",
       "cumul_annee_prec       10800.0    16.185759    34.566227     0.000000   \n",
       "cumul_annuel_apports   11520.0    35.584014    70.375044     0.000000   \n",
       "cumul_annuel_lachers   11520.0    22.224234    46.384321     0.000000   \n",
       "cumul_mensuel_apports  11641.0     3.287661    11.011470     0.000000   \n",
       "cumul_mensuel_lachers  11641.0     2.329649     7.411845     0.000000   \n",
       "fonctionnel            11641.0     1.000000     0.000000     1.000000   \n",
       "id_barrage             11641.0    16.671506     9.336584     1.000000   \n",
       "lachers                11641.0     0.154007     0.783272     0.000000   \n",
       "moy_mois               11163.0     4.764165    10.950147     0.000000   \n",
       "moy_periode            11163.0    31.902359    62.697752     0.003333   \n",
       "stock                  11641.0    39.459438    73.863096     0.006000   \n",
       "stock_annee_prec       11042.0    25.456523    43.770762     0.000000   \n",
       "\n",
       "                               25%          50%          75%         max  \n",
       "Annee_prod             1971.000000  1989.000000  2002.000000   2015.0000  \n",
       "Bassin_versant           85.900000   177.000000   855.000000  10300.0000  \n",
       "Cap_tot_act              12.854000    33.441100    76.900000    580.3500  \n",
       "Cap_tot_init             12.100000    41.000000    88.000000    814.0000  \n",
       "Cote                     82.500000   122.500000   270.000000    849.0000  \n",
       "Latitude                 36.302000    36.692300    36.882400     37.1991  \n",
       "Longitude                 8.936180     9.410930     9.872350     10.9218  \n",
       "_id                    2911.000000  5821.000000  8731.000000  11641.0000  \n",
       "apports                   0.000000     0.003904     0.049032     24.2202  \n",
       "cumul_annee_prec          0.406128     2.104285    14.703725    250.8460  \n",
       "cumul_annuel_apports      3.250595    11.629500    36.532800    626.9390  \n",
       "cumul_annuel_lachers      0.584187     4.511000    18.964000    328.8690  \n",
       "cumul_mensuel_apports     0.030513     0.245469     1.898090    197.5790  \n",
       "cumul_mensuel_lachers     0.000000     0.159000     1.416000    118.3860  \n",
       "fonctionnel               1.000000     1.000000     1.000000      1.0000  \n",
       "id_barrage                9.000000    17.000000    25.000000     33.0000  \n",
       "lachers                   0.000000     0.002922     0.050000     17.1530  \n",
       "moy_mois                  0.304790     1.114760     3.763410     93.8696  \n",
       "moy_periode               3.016500     9.873670    29.322200    401.3350  \n",
       "stock                     4.512100    17.679400    40.418800    581.4000  \n",
       "stock_annee_prec          1.791600     8.345120    30.082175    289.9590  "
      ]
     },
     "execution_count": 15,
     "metadata": {},
     "output_type": "execute_result"
    }
   ],
   "source": [
    "#review summary stats\n",
    "df.describe().T"
   ]
  },
  {
   "cell_type": "code",
   "execution_count": 16,
   "metadata": {
    "collapsed": true
   },
   "outputs": [],
   "source": [
    "from IPython.core.interactiveshell import InteractiveShell\n",
    "InteractiveShell.ast_node_interactivity = \"all\""
   ]
  },
  {
   "cell_type": "code",
   "execution_count": 66,
   "metadata": {},
   "outputs": [
    {
     "data": {
      "text/plain": [
       "Timestamp('2018-05-28 00:00:00')"
      ]
     },
     "execution_count": 66,
     "metadata": {},
     "output_type": "execute_result"
    },
    {
     "data": {
      "text/plain": [
       "Timestamp('2019-05-26 00:00:00')"
      ]
     },
     "execution_count": 66,
     "metadata": {},
     "output_type": "execute_result"
    }
   ],
   "source": [
    "#get date range for dataset\n",
    "from datetime import datetime,date\n",
    "df['Date'] = pd.to_datetime(df['Date']).dt.normalize()\n",
    "min(df.Date) \n",
    "max(df.Date)\n",
    "df['Date'] = pd.to_datetime(df['Date']).dt.date\n",
    "st_date=min(df.Date).strftime(\"%Y-%m-%d\") \n",
    "end_date=max(df.Date).strftime(\"%Y-%m-%d\")"
   ]
  },
  {
   "cell_type": "code",
   "execution_count": 35,
   "metadata": {},
   "outputs": [
    {
     "data": {
      "image/png": "[encoded data removed]",
      "text/plain": [
       "<matplotlib.figure.Figure at 0x120be2400>"
      ]
     },
     "metadata": {},
     "output_type": "display_data"
    }
   ],
   "source": [
    "lines = df[['stock','Date']].set_index(df.Date).plot.line(figsize=(10,10), rot=45)"
   ]
  },
  {
   "cell_type": "markdown",
   "metadata": {},
   "source": [
    "## Get list of lat and longs for Landsat data"
   ]
  },
  {
   "cell_type": "code",
   "execution_count": 51,
   "metadata": {},
   "outputs": [
    {
     "data": {
      "text/plain": [
       "8.70273"
      ]
     },
     "execution_count": 51,
     "metadata": {},
     "output_type": "execute_result"
    },
    {
     "data": {
      "text/plain": [
       "36.3144"
      ]
     },
     "execution_count": 51,
     "metadata": {},
     "output_type": "execute_result"
    }
   ],
   "source": [
    "lons=df['Longitude'].unique()\n",
    "lats=df['Latitude'].unique()\n",
    "lons[0]\n",
    "lats[0]"
   ]
  },
  {
   "cell_type": "markdown",
   "metadata": {},
   "source": [
    "### Search Landsat for data from first dam\n"
   ]
  },
  {
   "cell_type": "code",
   "execution_count": 71,
   "metadata": {},
   "outputs": [
    {
     "name": "stdout",
     "output_type": "stream",
     "text": [
      "11 scenes found.\n",
      "2018-06-14\n",
      "LC81920352018165LGN00\n",
      "6.78\n",
      "2018-06-30\n",
      "LC81920352018181LGN00\n",
      "0.03\n",
      "2018-08-01\n",
      "LC81920352018213LGN00\n",
      "0.17\n",
      "2018-09-02\n",
      "LC81920352018245LGN00\n",
      "4.34\n",
      "2018-11-05\n",
      "LC81920352018309LGN00\n",
      "0.35\n",
      "2018-11-21\n",
      "LC81920352018325LGN00\n",
      "0.03\n",
      "2018-12-23\n",
      "LC81920352018357LGN00\n",
      "0.09\n",
      "2019-02-09\n",
      "LC81920352019040LGN00\n",
      "1.19\n",
      "2019-03-13\n",
      "LC81920352019072LGN00\n",
      "0.03\n",
      "2019-04-14\n",
      "LC81920352019104LGN00\n",
      "6.53\n",
      "2019-05-16\n",
      "LC81920352019136LGN00\n",
      "4.37\n"
     ]
    }
   ],
   "source": [
    "import landsatxplore.api\n",
    "from landsatxplore.earthexplorer import EarthExplorer\n",
    "ee = EarthExplorer('AIDEN.DATAMINER@GMAIL.COM', 'SuperSecretPassword1')\n",
    "# Initialize a new API instance and get an access key\n",
    "api = landsatxplore.api.API('AIDEN.DATAMINER@GMAIL.COM', 'SuperSecretPassword1')\n",
    "\n",
    "# Request\n",
    "scenes = api.search(\n",
    "    dataset='LANDSAT_8_C1',\n",
    "    latitude=lats[0],\n",
    "    longitude=lons[0],\n",
    "    start_date=st_date,\n",
    "    end_date=end_date,\n",
    "    max_cloud_cover=10)\n",
    "\n",
    "print('{} scenes found.'.format(len(scenes)))\n",
    "\n",
    "scene_list=[]\n",
    "for scene in scenes:\n",
    "    print(scene['acquisitionDate'])\n",
    "    print(scene['entityId'])\n",
    "    print(scene['cloudCover'])\n",
    "    scene_list.append(scene['entityId'])\n",
    "   # ee.download(scene_id=scene['entityId'], output_dir='./data')\n",
    "\n",
    "api.logout()\n",
    "ee.logout()"
   ]
  },
  {
   "cell_type": "code",
   "execution_count": 73,
   "metadata": {
    "collapsed": true
   },
   "outputs": [],
   "source": [
    "#unzip the tar.gz archives to a new directory\n",
    "#%run extractor.py"
   ]
  },
  {
   "cell_type": "code",
   "execution_count": 76,
   "metadata": {
    "scrolled": true
   },
   "outputs": [
    {
     "name": "stdout",
     "output_type": "stream",
     "text": [
      "['./data/LC08_L1TP_192035_20180411_20180417_01_T1.tar.gz', './data/LC08_L1TP_192035_20180614_20180703_01_T1.tar.gz', './data/LC08_L1TP_192035_20180630_20180716_01_T1.tar.gz']\n"
     ]
    }
   ],
   "source": [
    "#move the thermal files and metadata files to their own dir\n",
    "import os, shutil, pathlib, fnmatch\n",
    "\n",
    "def move_dir(src: str, dst: str, pattern: str = '*'):\n",
    "    if not os.path.isdir(dst):\n",
    "        pathlib.Path(dst).mkdir(parents=True, exist_ok=True)\n",
    "    for f in fnmatch.filter(os.listdir(src), pattern):\n",
    "        shutil.move(os.path.join(src, f), os.path.join(dst, f))\n",
    "move_dir('./data/extracted/','./data/metadata/','*.txt')\n",
    "move_dir('./data/extracted/','./data/qa/','*BQA.TIF')\n",
    "move_dir('./data/extracted/','./data/thermal/','*B8.TIF')\n",
    "move_dir('./data/extracted/','./data/thermal/','*B9.TIF')\n",
    "move_dir('./data/extracted/','./data/thermal/','*B10.TIF')\n",
    "move_dir('./data/extracted/','./data/thermal/','*B11.TIF')"
   ]
  },
  {
   "cell_type": "code",
   "execution_count": 4,
   "metadata": {
    "collapsed": true
   },
   "outputs": [],
   "source": [
    "#download rainfall data\n",
    "rf=pd.read_csv('pluviometrie.csv')"
   ]
  },
  {
   "cell_type": "code",
   "execution_count": 5,
   "metadata": {},
   "outputs": [
    {
     "data": {
      "text/html": [
       "<div>\n",
       "<style>\n",
       "    .dataframe thead tr:only-child th {\n",
       "        text-align: right;\n",
       "    }\n",
       "\n",
       "    .dataframe thead th {\n",
       "        text-align: left;\n",
       "    }\n",
       "\n",
       "    .dataframe tbody tr th {\n",
       "        vertical-align: top;\n",
       "    }\n",
       "</style>\n",
       "<table border=\"1\" class=\"dataframe\">\n",
       "  <thead>\n",
       "    <tr style=\"text-align: right;\">\n",
       "      <th></th>\n",
       "      <th>Date</th>\n",
       "      <th>station</th>\n",
       "      <th>Pluvio_du_jour</th>\n",
       "      <th>Cumul_du_mois</th>\n",
       "      <th>Cumul_moy_du_mois</th>\n",
       "      <th>Cumul_periode</th>\n",
       "      <th>Cumul_moy_periode</th>\n",
       "      <th>Cumul_mois_precedent</th>\n",
       "      <th>Cumul_periode_precedente</th>\n",
       "    </tr>\n",
       "  </thead>\n",
       "  <tbody>\n",
       "    <tr>\n",
       "      <th>0</th>\n",
       "      <td>2019-05-24</td>\n",
       "      <td>جندوبة</td>\n",
       "      <td>5.0</td>\n",
       "      <td>72.1</td>\n",
       "      <td>31.830000</td>\n",
       "      <td>589.1</td>\n",
       "      <td>416.921077</td>\n",
       "      <td>21.5</td>\n",
       "      <td>404.6</td>\n",
       "    </tr>\n",
       "    <tr>\n",
       "      <th>1</th>\n",
       "      <td>2019-05-24</td>\n",
       "      <td>بوسالم</td>\n",
       "      <td>4.0</td>\n",
       "      <td>33.9</td>\n",
       "      <td>27.426667</td>\n",
       "      <td>461.0</td>\n",
       "      <td>399.254344</td>\n",
       "      <td>17.4</td>\n",
       "      <td>389.3</td>\n",
       "    </tr>\n",
       "    <tr>\n",
       "      <th>2</th>\n",
       "      <td>2019-05-24</td>\n",
       "      <td>غار الدماء</td>\n",
       "      <td>2.0</td>\n",
       "      <td>49.5</td>\n",
       "      <td>36.819565</td>\n",
       "      <td>496.3</td>\n",
       "      <td>410.037174</td>\n",
       "      <td>42.1</td>\n",
       "      <td>387.3</td>\n",
       "    </tr>\n",
       "    <tr>\n",
       "      <th>3</th>\n",
       "      <td>2019-05-24</td>\n",
       "      <td>عين دراهم</td>\n",
       "      <td>10.0</td>\n",
       "      <td>116.0</td>\n",
       "      <td>75.270000</td>\n",
       "      <td>1369.0</td>\n",
       "      <td>1513.145692</td>\n",
       "      <td>158.0</td>\n",
       "      <td>1710.0</td>\n",
       "    </tr>\n",
       "    <tr>\n",
       "      <th>4</th>\n",
       "      <td>2019-05-24</td>\n",
       "      <td>طبرقة</td>\n",
       "      <td>15.0</td>\n",
       "      <td>38.0</td>\n",
       "      <td>37.674000</td>\n",
       "      <td>959.5</td>\n",
       "      <td>917.093385</td>\n",
       "      <td>94.9</td>\n",
       "      <td>1089.3</td>\n",
       "    </tr>\n",
       "  </tbody>\n",
       "</table>\n",
       "</div>"
      ],
      "text/plain": [
       "         Date     station  Pluvio_du_jour  Cumul_du_mois  Cumul_moy_du_mois  \\\n",
       "0  2019-05-24      جندوبة             5.0           72.1          31.830000   \n",
       "1  2019-05-24      بوسالم             4.0           33.9          27.426667   \n",
       "2  2019-05-24  غار الدماء             2.0           49.5          36.819565   \n",
       "3  2019-05-24   عين دراهم            10.0          116.0          75.270000   \n",
       "4  2019-05-24       طبرقة            15.0           38.0          37.674000   \n",
       "\n",
       "   Cumul_periode  Cumul_moy_periode  Cumul_mois_precedent  \\\n",
       "0          589.1         416.921077                  21.5   \n",
       "1          461.0         399.254344                  17.4   \n",
       "2          496.3         410.037174                  42.1   \n",
       "3         1369.0        1513.145692                 158.0   \n",
       "4          959.5         917.093385                  94.9   \n",
       "\n",
       "   Cumul_periode_precedente  \n",
       "0                     404.6  \n",
       "1                     389.3  \n",
       "2                     387.3  \n",
       "3                    1710.0  \n",
       "4                    1089.3  "
      ]
     },
     "execution_count": 5,
     "metadata": {},
     "output_type": "execute_result"
    }
   ],
   "source": [
    "rf.head()"
   ]
  },
  {
   "cell_type": "code",
   "execution_count": null,
   "metadata": {
    "collapsed": true
   },
   "outputs": [],
   "source": []
  }
 ],
 "metadata": {
  "kernelspec": {
   "display_name": "Python 3",
   "language": "python",
   "name": "python3"
  },
  "language_info": {
   "codemirror_mode": {
    "name": "ipython",
    "version": 3
   },
   "file_extension": ".py",
   "mimetype": "text/x-python",
   "name": "python",
   "nbconvert_exporter": "python",
   "pygments_lexer": "ipython3",
   "version": "3.6.1"
  }
 },
 "nbformat": 4,
 "nbformat_minor": 2
}
